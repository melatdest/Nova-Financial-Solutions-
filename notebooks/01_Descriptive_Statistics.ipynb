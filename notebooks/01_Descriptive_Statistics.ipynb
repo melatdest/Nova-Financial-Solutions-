{
 "cells": [
  {
   "cell_type": "code",
   "execution_count": null,
   "metadata": {
    "vscode": {
     "languageId": "plaintext"
    }
   },
   "outputs": [],
   "source": [
    "import pandas as pd\n",
    "import matplotlib.pyplot as plt\n",
    "from dateutil import parser\n",
    "from tabulate import tabulate"
   ]
  },
  {
   "cell_type": "code",
   "execution_count": null,
   "metadata": {
    "vscode": {
     "languageId": "plaintext"
    }
   },
   "outputs": [],
   "source": [
    "# Set pandas to display numbers in a standard float format\n",
    "pd.options.display.float_format = '{:.2f}'.format\n",
    "\n",
    "# Load your dataset\n",
    "\n",
    "df = pd.read_csv('../Data/raw_analyst_ratings.csv')\n",
    "\n",
    "\n",
    "\n",
    "# Calculate the length of each headline\n",
    "df['headline_length'] = df['headline'].apply(len)\n",
    "\n",
    "# Get descriptive statistics for headline length\n",
    "headline_stats = df['headline_length'].describe()\n",
    "print(headline_stats)"
   ]
  },
  {
   "cell_type": "code",
   "execution_count": null,
   "metadata": {
    "vscode": {
     "languageId": "plaintext"
    }
   },
   "outputs": [],
   "source": [
    "publisher_counts = df['publisher'].value_counts()\n",
    "\n",
    "# Get the top 100 publishers\n",
    "top_10_publishers = publisher_counts.head(10).reset_index()\n",
    "top_10_publishers.columns = ['Publisher', 'Number of Articles']\n",
    "\n",
    "# Convert to a list of lists for tabulate\n",
    "table = top_10_publishers.values.tolist()\n",
    "print(\"\\033[1mTop 10 Publishers with the Number of Articles Published.\\033[0m\")\n",
    "# Print the table in a beautiful format\n",
    "print(tabulate(table, headers=['Publisher', 'Number of Articles'], tablefmt='fancy_grid'))"
   ]
  },
  {
   "cell_type": "code",
   "execution_count": null,
   "metadata": {
    "vscode": {
     "languageId": "plaintext"
    }
   },
   "outputs": [],
   "source": [
    "import pandas as pd\n",
    "import matplotlib.pyplot as plt\n",
    "from dateutil import parser\n",
    "\n",
    "# Custom parser to handle mixed formats\n",
    "def parse_dates(date_str):\n",
    "    try:\n",
    "        return parser.parse(date_str)\n",
    "    except Exception as e:\n",
    "        print(f\"Error parsing date: {date_str} | Error: {e}\")\n",
    "        return pd.NaT  # Return Not-a-Time (NaT) for any unparsable date\n",
    "\n",
    "# Load the dataset\n",
    "df = pd.read_csv('../Data/raw_analyst_ratings.csv')\n",
    "\n",
    "# Parse the 'date' column with the custom parser\n",
    "df['date'] = df['date'].apply(parse_dates)\n",
    "\n",
    "# Ensure the 'date' column is datetime and drop rows with any unparsable dates\n",
    "df = df.dropna(subset=['date'])\n",
    "df['date'] = pd.to_datetime(df['date'], errors='coerce')\n",
    "\n",
    "# Drop rows again that might still have NaT after conversion\n",
    "df = df.dropna(subset=['date'])\n",
    "\n",
    "# Convert all times to UTC (this only works if the datetime objects are timezone aware)\n",
    "if df['date'].dt.tz is None:\n",
    "    df['date'] = df['date'].dt.tz_localize('UTC')\n",
    "else:\n",
    "    df['date'] = df['date'].dt.tz_convert('UTC')\n",
    "\n",
    "# Extract day of the week and date components\n",
    "df['day_of_week'] = df['date'].dt.day_name()  # Get the day name (e.g., 'Monday')\n",
    "df['date_only'] = df['date'].dt.date  # Get only the date part without time\n",
    "\n",
    "# Group by day of the week to see frequency of publications\n",
    "day_of_week_count = df['day_of_week'].value_counts().sort_index()\n",
    "\n",
    "# Plotting the frequency of publications by day of the week\n",
    "plt.figure(figsize=(10, 6))\n",
    "day_of_week_count.plot(kind='bar', color='skyblue')\n",
    "plt.title('News Publication Frequency by Day of the Week (UTC)')\n",
    "plt.xlabel('Day of the Week')\n",
    "plt.ylabel('Number of Articles')\n",
    "plt.xticks(rotation=45)\n",
    "plt.show()\n",
    "\n",
    "# Group by date to see frequency of publications over time\n",
    "date_count = df['date_only'].value_counts().sort_index()\n",
    "\n",
    "# Plotting the frequency of publications over time\n",
    "plt.figure(figsize=(14, 7))\n",
    "date_count.plot(kind='line', color='purple')\n",
    "plt.title('News Publication Frequency Over Time (UTC)')\n",
    "plt.xlabel('Date')\n",
    "plt.ylabel('Number of Articles')\n",
    "plt.grid(True)\n",
    "plt.show()"
   ]
  }
 ],
 "metadata": {
  "language_info": {
   "name": "python"
  }
 },
 "nbformat": 4,
 "nbformat_minor": 2
}
