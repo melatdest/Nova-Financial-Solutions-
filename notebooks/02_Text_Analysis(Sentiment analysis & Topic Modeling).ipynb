{
 "cells": [
  {
   "cell_type": "code",
   "execution_count": null,
   "metadata": {
    "vscode": {
     "languageId": "plaintext"
    }
   },
   "outputs": [],
   "source": [
    "import pandas as pd\n",
    "from nltk.sentiment.vader import SentimentIntensityAnalyzer\n",
    "import nltk\n",
    "\n",
    "# Load the dataset\n",
    "df = pd.read_csv('../Data/raw_analyst_ratings.csv')\n",
    "\n",
    "# Drop unnecessary columns\n",
    "df = df[['headline']]  # Keep only 'headline'\n",
    "\n",
    "# Download VADER lexicon if not already available\n",
    "nltk.download('vader_lexicon')\n",
    "\n",
    "# Initialize the SentimentIntensityAnalyzer\n",
    "sia = SentimentIntensityAnalyzer()\n",
    "\n",
    "# Perform sentiment analysis\n",
    "df['sentiment_score'] = df['headline'].apply(lambda x: sia.polarity_scores(x)['compound'])\n",
    "df['sentiment'] = df['sentiment_score'].apply(lambda x: 'positive' if x > 0.05 else ('negative' if x < -0.05 else 'neutral'))\n",
    "\n",
    "# Optional: Save the results to a new CSV\n",
    "# df.to_csv('../Data/processed_analyst_ratings.csv', index=False)\n",
    "\n",
    "# Display the first few rows of the processed DataFrame\n",
    "print(df[['headline', 'sentiment_score', 'sentiment']].head())"
   ]
  },
  {
   "cell_type": "code",
   "execution_count": null,
   "metadata": {
    "vscode": {
     "languageId": "plaintext"
    }
   },
   "outputs": [],
   "source": [
    "# Select specific columns to save\n",
    "df[['headline', 'sentiment_score', 'sentiment']].to_csv('../Data/processed_analyst_ratings.csv', index=False)"
   ]
  },
  {
   "cell_type": "code",
   "execution_count": null,
   "metadata": {
    "vscode": {
     "languageId": "plaintext"
    }
   },
   "outputs": [],
   "source": [
    "from prettytable import PrettyTable\n",
    "\n",
    "# Create a PrettyTable object\n",
    "table = PrettyTable()\n",
    "\n",
    "# Define the columns\n",
    "table.field_names = [\"Headline\", \"Sentiment Score\", \"Sentiment\"]\n",
    "\n",
    "# Add the rows for the first 10 entries\n",
    "for index, row in df.head(10).iterrows():\n",
    "    table.add_row([row['headline'], row['sentiment_score'], row['sentiment']])\n",
    "\n",
    "# Print the table\n",
    "print(table)"
   ]
  },
  {
   "cell_type": "code",
   "execution_count": null,
   "metadata": {
    "vscode": {
     "languageId": "plaintext"
    }
   },
   "outputs": [],
   "source": [
    "import matplotlib.pyplot as plt\n",
    "\n",
    "# Count the occurrences of each sentiment\n",
    "sentiment_counts = df['sentiment'].value_counts()\n",
    "\n",
    "# Plot the bar chart\n",
    "plt.figure(figsize=(8, 6))\n",
    "bars = plt.bar(sentiment_counts.index, sentiment_counts, color=['green', 'red', 'gray'])\n",
    "\n",
    "# Add title and labels\n",
    "plt.title('Distribution of Sentiments in Headlines')\n",
    "plt.xlabel('Sentiment')\n",
    "plt.ylabel('Number of Headlines')\n",
    "\n",
    "# Add the exact number on top of each bar\n",
    "for bar in bars:\n",
    "    yval = bar.get_height()\n",
    "    plt.text(bar.get_x() + bar.get_width()/2, yval + 1, int(yval), ha='center', va='bottom')\n",
    "\n",
    "# Display the plot\n",
    "plt.show()"
   ]
  },
  {
   "cell_type": "code",
   "execution_count": null,
   "metadata": {
    "vscode": {
     "languageId": "plaintext"
    }
   },
   "outputs": [],
   "source": [
    "# Count the occurrences of each sentiment\n",
    "sentiment_counts = df['sentiment'].value_counts()\n",
    "\n",
    "# Prepare the labels with counts\n",
    "labels = [f'{sentiment} ({count})' for sentiment, count in zip(sentiment_counts.index, sentiment_counts)]\n",
    "\n",
    "# Plot the pie chart\n",
    "plt.figure(figsize=(8, 8))\n",
    "plt.pie(sentiment_counts, labels=labels, autopct='%1.1f%%', colors=['green', 'red', 'gray'], startangle=140)\n",
    "\n",
    "# Add title\n",
    "plt.title('Distribution of Sentiments in Headlines')\n",
    "\n",
    "# Display the plot\n",
    "plt.show()\n"
   ]
  },
  {
   "cell_type": "code",
   "execution_count": null,
   "metadata": {
    "vscode": {
     "languageId": "plaintext"
    }
   },
   "outputs": [],
   "source": [
    "import pandas as pd\n",
    "from prettytable import PrettyTable\n",
    "\n",
    "df = pd.read_csv('../Data/raw_analyst_ratings.csv')\n",
    "# Group by 'publisher' and count the number of articles\n",
    "publisher_counts = df['publisher'].value_counts()\n",
    "\n",
    "# Categorize headlines\n",
    "def categorize_headline(headline):\n",
    "    if 'earnings' in headline.lower():\n",
    "        return 'Earnings Report'\n",
    "    elif 'price target' in headline.lower():\n",
    "        return 'Price Target Change'\n",
    "    elif 'moving' in headline.lower() or 'high' in headline.lower():\n",
    "        return 'Stock Movement'\n",
    "    else:\n",
    "        return 'Other'\n",
    "\n",
    "# Apply the function and group by 'publisher' and 'headline_category'\n",
    "df['headline_category'] = df['headline'].apply(categorize_headline)\n",
    "distribution = df.groupby(['publisher', 'headline_category']).size().unstack().fillna(0)\n",
    "\n",
    "# Sort by total articles and reorder columns\n",
    "distribution['Total'] = distribution.sum(axis=1)\n",
    "distribution = distribution.sort_values('Total', ascending=False).drop(columns=['Total'])\n",
    "distribution = distribution[['Earnings Report', 'Price Target Change', 'Stock Movement', 'Other']].astype(int)\n",
    "\n",
    "# Create a PrettyTable object\n",
    "table = PrettyTable()\n",
    "\n",
    "# Add column names\n",
    "table.field_names = [\"Publisher\", \"Earnings Report\", \"Price Target Change\", \"Stock Movement\", \"Other\"]\n",
    "\n",
    "# Add rows to the table\n",
    "for index, row in distribution.iterrows():\n",
    "    table.add_row([index, row['Earnings Report'], row['Price Target Change'], row['Stock Movement'], row['Other']])\n",
    "\n",
    "# Print the PrettyTable\n",
    "print(\"Publisher Headline Distribution by Category\")\n",
    "print(table)"
   ]
  },
  {
   "cell_type": "code",
   "execution_count": null,
   "metadata": {
    "vscode": {
     "languageId": "plaintext"
    }
   },
   "outputs": [],
   "source": []
  }
 ],
 "metadata": {
  "language_info": {
   "name": "python"
  }
 },
 "nbformat": 4,
 "nbformat_minor": 2
}
